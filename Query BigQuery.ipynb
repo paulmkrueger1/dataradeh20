{
 "cells": [
  {
   "cell_type": "code",
   "execution_count": null,
   "metadata": {},
   "outputs": [],
   "source": [
    "\"\"\"\n",
    "https://cloud.google.com/bigquery/docs/reference/libraries#client-libraries-install-python\n",
    "\n",
    "https://cloud.google.com/bigquery/docs/quickstarts/quickstart-client-libraries#bigquery_simple_app_query-python\n",
    "\n",
    "BigQuery Query History: https://console.cloud.google.com/bigquery?project=manymoons-215635&page=queries\n",
    "\n",
    "Remember to* pip install --upgrade google-cloud-bigquery\n",
    "\n",
    "\"\"\"\n",
    "# Imports the Google Cloud client library\n",
    "from google.cloud import bigquery\n",
    "\n",
    "# Instantiates a client\n",
    "bigquery_client = bigquery.Client(project='manymoons-215635')\n",
    "\n",
    "# Import pandas for output format as DataFrame\n",
    "import pandas as pd"
   ]
  },
  {
   "cell_type": "markdown",
   "metadata": {},
   "source": [
    "### Function to grab table schema"
   ]
  },
  {
   "cell_type": "code",
   "execution_count": null,
   "metadata": {},
   "outputs": [],
   "source": [
    "def schema_row_to_dict(schema_row):\n",
    "    return {\n",
    "        'colname': schema_row.name,\n",
    "        'type': schema_row.field_type,\n",
    "        'mode': schema_row.mode,\n",
    "        'description': schema_row.description,\n",
    "        'fields': schema_row.fields\n",
    "    }"
   ]
  },
  {
   "cell_type": "code",
   "execution_count": null,
   "metadata": {},
   "outputs": [],
   "source": [
    "def describe_table(table='bq_events_all', dataset='dataset_dev'):\n",
    "    dataset_ref = bigquery_client.dataset(dataset)\n",
    "    bq_events = dataset_ref.table(table)\n",
    "    tab = bigquery_client.get_table(bq_events)\n",
    "    return pd.DataFrame([schema_row_to_dict(row) for row in tab.schema])"
   ]
  },
  {
   "cell_type": "markdown",
   "metadata": {},
   "source": [
    "### Main BQ Query Function"
   ]
  },
  {
   "cell_type": "code",
   "execution_count": null,
   "metadata": {},
   "outputs": [],
   "source": [
    "def query_BQ(query):\n",
    "    \"\"\"\n",
    "    Main Query Function \n",
    "    \n",
    "    Available datasets: 'dataset_dev'\n",
    "    \n",
    "    Available tables: 'bq_events_all'\n",
    "    \n",
    "    Example Query: \"SELECT DISTINCT(event_type), COUNT(event_type) event_count FROM dataset_dev.bq_events_all GROUP BY event_type\"\n",
    "    \"\"\"\n",
    "    query_job = bigquery_client.query(query)\n",
    "    results = query_job.result()\n",
    "    return pd.DataFrame([dict(row) for row in results])"
   ]
  },
  {
   "cell_type": "markdown",
   "metadata": {},
   "source": [
    "### Get Query-able Fields"
   ]
  },
  {
   "cell_type": "code",
   "execution_count": null,
   "metadata": {},
   "outputs": [],
   "source": [
    "out_df = describe_table(table='bq_events_all', dataset='dataset_dev')"
   ]
  },
  {
   "cell_type": "code",
   "execution_count": null,
   "metadata": {},
   "outputs": [],
   "source": [
    "out_df"
   ]
  },
  {
   "cell_type": "markdown",
   "metadata": {},
   "source": [
    "### Query Events within a random session (with a non-anonymous user)"
   ]
  },
  {
   "cell_type": "code",
   "execution_count": null,
   "metadata": {},
   "outputs": [],
   "source": [
    "query = \"\"\"\n",
    "    SELECT client_event_time, session_id, event_type, user_properties FROM `dataset_dev.bq_events_all`\n",
    "    WHERE session_id = (SELECT session_id FROM dataset_dev.bq_events_all ORDER BY RAND() LIMIT 1) \n",
    "    AND user_properties NOT LIKE '%anonymousId%' ORDER BY client_event_time LIMIT 100;\n",
    "\"\"\"\n",
    "out_df = query_BQ(query)"
   ]
  },
  {
   "cell_type": "code",
   "execution_count": null,
   "metadata": {},
   "outputs": [],
   "source": [
    "out_df.head()"
   ]
  },
  {
   "cell_type": "markdown",
   "metadata": {},
   "source": [
    "### Query All event types and # of occurrences"
   ]
  },
  {
   "cell_type": "code",
   "execution_count": null,
   "metadata": {},
   "outputs": [],
   "source": [
    "out_df = query_BQ(\"\"\"\n",
    "    SELECT DISTINCT(event_type), COUNT(event_type) event_count FROM dataset_dev.bq_events_all GROUP BY event_type\n",
    "\"\"\")"
   ]
  },
  {
   "cell_type": "code",
   "execution_count": null,
   "metadata": {},
   "outputs": [],
   "source": [
    "out_df.head()"
   ]
  },
  {
   "cell_type": "code",
   "execution_count": null,
   "metadata": {},
   "outputs": [],
   "source": []
  }
 ],
 "metadata": {
  "kernelspec": {
   "display_name": "Python [conda env:mlenv]",
   "language": "python",
   "name": "conda-env-mlenv-py"
  },
  "language_info": {
   "codemirror_mode": {
    "name": "ipython",
    "version": 3
   },
   "file_extension": ".py",
   "mimetype": "text/x-python",
   "name": "python",
   "nbconvert_exporter": "python",
   "pygments_lexer": "ipython3",
   "version": "3.6.6"
  }
 },
 "nbformat": 4,
 "nbformat_minor": 2
}
