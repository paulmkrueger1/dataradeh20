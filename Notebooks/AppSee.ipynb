{
 "cells": [
  {
   "cell_type": "code",
   "execution_count": null,
   "metadata": {},
   "outputs": [],
   "source": [
    "import requests \n",
    "import pandas as pd\n",
    "# api-endpoint \n",
    "URL = \"https://api.appsee.com/sessions\"\n",
    "\n",
    "#api key and secret\n",
    "API_KEY = '0ece18b50f7d4ef9aae3e473c28030bc'\n",
    "API_SECRET = 'a922b6601f3b4d46a52052653728d289'\n",
    "\n",
    "START_DATE = '2018-09-01'\n",
    "END_DATE = '2018-09-02'\n",
    "\n",
    "USER_ID = '34E60899-5992-4D56-B58B-C5EDC4F65E2B'\n",
    "\n",
    "# defining a payload dict for the parameters to be sent to the API\n",
    "payload = {'apikey': API_KEY, 'apisecret': API_SECRET, 'fromdate': START_DATE, 'todate': END_DATE, 'userid': USER_ID}\n",
    "\n",
    "# sending get request and saving the response as response object \n",
    "r = requests.get(url = URL, params = payload) \n",
    "  \n",
    "# extracting data in json format \n",
    "data = r.json() "
   ]
  },
  {
   "cell_type": "code",
   "execution_count": null,
   "metadata": {},
   "outputs": [],
   "source": [
    "n = 0"
   ]
  },
  {
   "cell_type": "code",
   "execution_count": null,
   "metadata": {},
   "outputs": [],
   "source": [
    "event_df = pd.DataFrame(data['Sessions'][n]['Events'])\n",
    "event_df['StartTime'] = event_df.Time\n",
    "event_df['Table'] = 'Events'\n",
    "# event_df"
   ]
  },
  {
   "cell_type": "code",
   "execution_count": null,
   "metadata": {},
   "outputs": [],
   "source": [
    "user_id = data['Sessions'][n]['UserId']\n",
    "session_idx = data['Sessions'][n]['SessionIndex']\n",
    "user_id, session_idx"
   ]
  },
  {
   "cell_type": "code",
   "execution_count": null,
   "metadata": {},
   "outputs": [],
   "source": [
    "df = pd.DataFrame(data['Sessions'][n]['Screens'])\n",
    "df['num_gestures'] = [len(i) for i in df.Gestures]\n",
    "df['num_actions'] = [len(i) for i in df.Actions]\n",
    "df['Table'] = 'Screens'\n",
    "df['screen_num'] = df.index.values\n",
    "df.head()"
   ]
  },
  {
   "cell_type": "code",
   "execution_count": null,
   "metadata": {},
   "outputs": [],
   "source": [
    "\n",
    "# df"
   ]
  },
  {
   "cell_type": "code",
   "execution_count": null,
   "metadata": {},
   "outputs": [],
   "source": [
    "combined = pd.concat([event_df, df])\n",
    "combined = combined.sort_values('StartTime').reset_index(drop=True)\n",
    "combined.screen_num = combined.screen_num.ffill().fillna(0)\n",
    "combined"
   ]
  },
  {
   "cell_type": "code",
   "execution_count": null,
   "metadata": {},
   "outputs": [],
   "source": [
    "combined.Properties.values[21]"
   ]
  },
  {
   "cell_type": "code",
   "execution_count": null,
   "metadata": {},
   "outputs": [],
   "source": []
  }
 ],
 "metadata": {
  "kernelspec": {
   "display_name": "Python [conda env:mlenv]",
   "language": "python",
   "name": "conda-env-mlenv-py"
  },
  "language_info": {
   "codemirror_mode": {
    "name": "ipython",
    "version": 3
   },
   "file_extension": ".py",
   "mimetype": "text/x-python",
   "name": "python",
   "nbconvert_exporter": "python",
   "pygments_lexer": "ipython3",
   "version": "3.6.6"
  }
 },
 "nbformat": 4,
 "nbformat_minor": 2
}
