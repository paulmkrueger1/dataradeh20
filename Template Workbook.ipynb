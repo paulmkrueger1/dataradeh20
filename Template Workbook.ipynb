{
 "cells": [
  {
   "cell_type": "code",
   "execution_count": null,
   "metadata": {},
   "outputs": [],
   "source": [
    "# Imports the Google Cloud client library\n",
    "from google.cloud import bigquery, storage\n",
    "\n",
    "# Instantiates a client\n",
    "bigquery_client = bigquery.Client(project='manymoons-215635')\n",
    "storage_client = storage.Client(project='manymoons-215635')\n",
    "bucket_name = 'raw-events-prod'\n",
    "bucket = storage_client.get_bucket(bucket_name)\n",
    "\n",
    "# Import pandas for output format as DataFrame\n",
    "import pandas as pd\n",
    "import json\n",
    "\n",
    "# Image loading/processing\n",
    "from PIL import Image\n",
    "import requests\n",
    "import numpy as np\n",
    "\n",
    "# Data pipeline helper functions\n",
    "import data_pipeline_helpers"
   ]
  },
  {
   "cell_type": "markdown",
   "metadata": {},
   "source": [
    "#### Generate 'Event_Type Map'\n",
    "This generates a map of an event_type as the key, and a list of event_properties keys as the values. It also comes with single-time-failed event_types and 'failed to land' event_types"
   ]
  },
  {
   "cell_type": "code",
   "execution_count": null,
   "metadata": {},
   "outputs": [],
   "source": [
    "# res = data_pipeline_helpers.generate_event_type_map(limit=100)"
   ]
  },
  {
   "cell_type": "code",
   "execution_count": null,
   "metadata": {},
   "outputs": [],
   "source": [
    "# res.keys()"
   ]
  },
  {
   "cell_type": "code",
   "execution_count": null,
   "metadata": {},
   "outputs": [],
   "source": [
    "# res['event_type_map']"
   ]
  },
  {
   "cell_type": "markdown",
   "metadata": {},
   "source": [
    "#### Get all event_type that contain image URL's\n",
    "TODO: Get additional keys other than 'screenshot-imageURL' where photos could be"
   ]
  },
  {
   "cell_type": "code",
   "execution_count": null,
   "metadata": {},
   "outputs": [],
   "source": [
    "# imageURL_event_types = [e for e in res['event_type_map'] if 'screenshot-imageURL' in res['event_type_map'][e]]"
   ]
  },
  {
   "cell_type": "code",
   "execution_count": null,
   "metadata": {},
   "outputs": [],
   "source": [
    "# json.dump(imageURL_event_types, open('imageURL_event_types.json', 'w'))"
   ]
  },
  {
   "cell_type": "code",
   "execution_count": null,
   "metadata": {},
   "outputs": [],
   "source": [
    "imageURL_event_types = json.load(open('imageURL_event_types.json','r'))"
   ]
  },
  {
   "cell_type": "code",
   "execution_count": null,
   "metadata": {},
   "outputs": [],
   "source": [
    "imageURL_event_types"
   ]
  },
  {
   "cell_type": "markdown",
   "metadata": {},
   "source": [
    "#### Grab Random Session that includes interacting with an image at some point (at least 1 event contains screenshot-imageURL in the event_properties (can/will update this as we go)"
   ]
  },
  {
   "cell_type": "code",
   "execution_count": null,
   "metadata": {},
   "outputs": [],
   "source": [
    "session_df = data_pipeline_helpers.get_random_session(imageURL_event_types)"
   ]
  },
  {
   "cell_type": "code",
   "execution_count": 1,
   "metadata": {},
   "outputs": [],
   "source": [
    "# session_df[86:90].event_properties.values[0]"
   ]
  },
  {
   "cell_type": "markdown",
   "metadata": {},
   "source": [
    "#### Grab all event_types and their # of occurrences (To look around)"
   ]
  },
  {
   "cell_type": "code",
   "execution_count": null,
   "metadata": {},
   "outputs": [],
   "source": [
    "out_df = data_pipeline_helpers.query_BQ(\"\"\"\n",
    "    SELECT DISTINCT(event_type), COUNT(event_type) event_count FROM dataset_dev.bq_events_all GROUP BY event_type\n",
    "\"\"\")"
   ]
  },
  {
   "cell_type": "code",
   "execution_count": null,
   "metadata": {},
   "outputs": [],
   "source": [
    "sorted_df = out_df.sort_values('event_count', ascending=False)\n",
    "sorted_df[sorted_df.event_count > 1].event_type.values[-1]"
   ]
  },
  {
   "cell_type": "code",
   "execution_count": null,
   "metadata": {},
   "outputs": [],
   "source": []
  }
 ],
 "metadata": {
  "kernelspec": {
   "display_name": "Python [conda env:mlenv]",
   "language": "python",
   "name": "conda-env-mlenv-py"
  },
  "language_info": {
   "codemirror_mode": {
    "name": "ipython",
    "version": 3
   },
   "file_extension": ".py",
   "mimetype": "text/x-python",
   "name": "python",
   "nbconvert_exporter": "python",
   "pygments_lexer": "ipython3",
   "version": "3.6.6"
  }
 },
 "nbformat": 4,
 "nbformat_minor": 2
}
